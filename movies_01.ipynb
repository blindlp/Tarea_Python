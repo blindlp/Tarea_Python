{
 "cells": [
  {
   "cell_type": "markdown",
   "metadata": {
    "collapsed": true,
    "jupyter": {
     "outputs_hidden": true
    }
   },
   "source": [
    "<h1 style=\"text-align:center\">\n",
    "    Movies\n",
    "</h1>\n",
    "\n",
    "<br>\n",
    "\n",
    "<font color=\"darkblue\">\n",
    "\n",
    "<h3 style=\"text-align:center\">\n",
    "    Luis Pozuelos Juarez\n",
    "</h3>\n",
    "    \n",
    "<h3 style=\"text-align:center\">\n",
    "    2025-03-10\n",
    "</h3>\n",
    "\n",
    "<hr>"
   ]
  },
  {
   "cell_type": "markdown",
   "metadata": {},
   "source": [
    "# Introducción\n",
    "\n",
    "<br>\n",
    "\n",
    "En este proyecto se desarrolla en Python un análisis básico de datos sobre películas de cine de IMDB.\n",
    "El set de datos que vamos a usar inicialmente se encuentra en la siguiente página:\n",
    "\n",
    "https://www.kaggle.com/datasets/carolzhangdc/imdb-5000-movie-dataset\n",
    "\n",
    "En ella puede encontrarse información más detallada, así como una descripción precisa de cada columna.\n",
    "\n",
    "<font color=\"green\">\n",
    "Seguidamente, te toca a ti hacer una breve introducción, completando el fragmento de letra en azul y desarrollándolo a tu antojo. Suprime después este fragmento en verde.\n",
    "</font>\n",
    "\n",
    "<br>\n",
    "\n",
    "Se plantean los apartados iniciales para su resolución *sin usar la libreria pandas*. Esto se propone así para forzar a practicar con las técnicas, herramientas y conceptos básicos de Python. Más adelante, hay otros apartados propuestos para su resolución con esta librería y otras.\n",
    "\n",
    "<br>\n",
    "\n",
    "<font color=\"darkblue\">\n",
    "A partir de los datos proporcionados, he conseguido ... pero no he podido ...\n",
    "\n",
    "<br>\n",
    "\n",
    "Aunque al final de este notebook detallaré la calificación que calculo honestamente, globalmente, siguiendo las puntuaciones que se asigna a cada apartado, diría que he obtenido una nota de *** sobre 10.\n",
    "</font>\n",
    "\n",
    "<br>\n",
    "\n",
    "<font color=\"green\">\n",
    "Completa tus datos personales en la cabecera, bajo el rótulo inicial. Completa también el breve apartado anterior, con texto  azul, y pon en azul todos los comentarios tuyos, dejando en negro los míos, del enunciado. También, suprime los fragmentos en verde, como éste, que son indicaciones pero que, una vez atendidas, deben desaparecer de la solución que entregas.\n",
    "</font>"
   ]
  },
  {
   "cell_type": "markdown",
   "metadata": {},
   "source": [
    "# Datos de partida\n",
    "\n",
    "(**Nota previa:** hasta el apartado específico de dataframes, se deben desarrollar las soluciones a los ejercicios propuestos sin usar la librería `pandas`, justamente para obligar a practicar con conceptos básicos de Python.)\n",
    "\n",
    "Nuestra tabla de datos es un archivo de texto (`ds_salaries.csv`) que puede verse así con cualquier editor:\n",
    "\n",
    "<br>\n",
    "\n",
    "<center>\n",
    "    <img src=\"./images/texto.png\" width=\"100%\">\n",
    "</center>\n",
    "\n",
    "La primera fila es la cabecera.\n",
    "Esta fila cabecera contiene los nombres de los campos, separados por comas.\n",
    "Yo la he marcado en azul para distinguirla fácilmente de las demás filas, que contienen los datos propiamente dichos,\n",
    "esto es, los valores de dichos campos, consignando los datos de cada película en cada línea.\n",
    "\n",
    "Si abrimos esta tabla con *excell* (importar datos csv con el separador `,`), vemos cada dato en una celda.\n",
    "\n",
    "<br>\n",
    "\n",
    "<center>\n",
    "    <img src=\"./images/csv_1.png\" width=\"100%\">\n",
    "</center>\n",
    "\n",
    "<br>\n",
    "\n",
    "Mostramos la hoja excell en dos imágenes por ser muy ancha.\n",
    "\n",
    "<br>\n",
    "\n",
    "<center>\n",
    "    <img src=\"./images/csv_2.png\" width=\"100%\">\n",
    "</center>"
   ]
  },
  {
   "cell_type": "markdown",
   "metadata": {},
   "source": [
    "# Librerías y constantes globales\n",
    "\n",
    "<br>\n",
    "\n",
    "Pongamos todas las librerías necesarias al principio, tal como propone el estilo `pep-8`. Ej.:\n",
    "<a href=\"https://www.python.org/dev/peps/pep-0008/\">PEP 8 -- Style Guide for Python Code</a>.\n",
    "    \n",
    "De paso, en éste y otros lugares de Internet podrás encontrar detalles sobre estilo y presentación de código con un estilo estándar y cuidado. Examina esta página y trata de seguir esas indicaciones."
   ]
  },
  {
   "cell_type": "code",
   "execution_count": 493,
   "metadata": {},
   "outputs": [],
   "source": [
    "# Librerías:\n",
    "import csv\n",
    "# Esta celda debe ser completada por el estudiante\n",
    "\n"
   ]
  },
  {
   "cell_type": "code",
   "execution_count": 494,
   "metadata": {},
   "outputs": [],
   "source": [
    "# Constantes globales:\n",
    "MOVIES_DATA = \"./data_in/movie_data.csv\"\n",
    "# Esta celda debe ser completada por el estudiante\n",
    "\n"
   ]
  },
  {
   "cell_type": "markdown",
   "metadata": {},
   "source": [
    "# Parte A. Ejercicios básicos sin usar `pandas` [2 puntos]"
   ]
  },
  {
   "cell_type": "markdown",
   "metadata": {},
   "source": [
    "Esta parte inicial debe realizarse sin usar la librería `pandas`. Para practicar con esta librería, se plantean otros apartados más abajo."
   ]
  },
  {
   "cell_type": "markdown",
   "metadata": {},
   "source": [
    "### A.1. Exploración inicial básica del archivo de datos"
   ]
  },
  {
   "cell_type": "markdown",
   "metadata": {},
   "source": [
    "Deseamos cargar el archivo de datos, que tiene un formato `csv`.\n",
    "En este apartado, te recomiendo fuertemente usar la librería `cvs`,\n",
    "que deberás importar en la primera celda del script, más arriba, no aquí.\n",
    "(En los siguientes apartados, ya no mencionaré qué librerías usar\n",
    "ni recordaré dónde se han de importar.)\n",
    "\n",
    "Observa también que el test de funcionamiento te da el nombre de la función que deber definir\n",
    "y algún otro identificador como es, por ejemplo, la constante `MOVIES_DATA`,\n",
    "que debes definir también más arriba, en la segunda celda de este script.\n",
    "\n",
    "Finalmente, observando el test, verás que se carga por separado la cabecera y las filas de datos."
   ]
  },
  {
   "cell_type": "code",
   "execution_count": 670,
   "metadata": {},
   "outputs": [],
   "source": [
    "# Esta celda debe ser completada por el estudiante\n",
    "\n",
    "def load_full_data(MOVIES_DATA):           \n",
    "    with open(MOVIES_DATA, \"r\") as csvfile:\n",
    "        reader_object = csv.reader(csvfile, delimiter=\",\")\n",
    "        list_of_movies = []\n",
    "        for row_list in reader_object:\n",
    "            list_of_movies.append(row_list)\n",
    "    csvfile.close()         \n",
    "    return list_of_movies[0], list_of_movies[1:]"
   ]
  },
  {
   "cell_type": "code",
   "execution_count": 672,
   "metadata": {},
   "outputs": [
    {
     "name": "stdout",
     "output_type": "stream",
     "text": [
      "['color', 'director_name', 'num_critic_for_reviews', 'duration', 'director_facebook_likes', 'actor_3_facebook_likes', 'actor_2_name', 'actor_1_facebook_likes', 'gross', 'genres', 'actor_1_name', 'movie_title', 'num_voted_users', 'cast_total_facebook_likes', 'actor_3_name', 'facenumber_in_poster', 'plot_keywords', 'movie_imdb_link', 'num_user_for_reviews', 'language', 'country', 'content_rating', 'budget', 'title_year', 'actor_2_facebook_likes', 'imdb_score', 'aspect_ratio', 'movie_facebook_likes']\n",
      "\n",
      "[['Color', 'Gore Verbinski', '302', '169', '563', '1000', 'Orlando Bloom', '40000', '309404152', 'Action|Adventure|Fantasy', 'Johnny Depp', \"Pirates of the Caribbean: At World's End\\xa0\", '471220', '48350', 'Jack Davenport', '0', 'goddess|marriage ceremony|marriage proposal|pirate|singapore', 'http://www.imdb.com/title/tt0449088/?ref_=fn_tt_tt_1', '1238', 'English', 'USA', 'PG-13', '300000000', '2007', '5000', '7.1', '2.35', '0'], ['Color', 'Sam Mendes', '602', '148', '0', '161', 'Rory Kinnear', '11000', '200074175', 'Action|Adventure|Thriller', 'Christoph Waltz', 'Spectre\\xa0', '275868', '11700', 'Stephanie Sigman', '1', 'bomb|espionage|sequel|spy|terrorist', 'http://www.imdb.com/title/tt2379713/?ref_=fn_tt_tt_1', '994', 'English', 'UK', 'PG-13', '245000000', '2015', '393', '6.8', '2.35', '85000'], ['Color', 'Christopher Nolan', '813', '164', '22000', '23000', 'Christian Bale', '27000', '448130642', 'Action|Thriller', 'Tom Hardy', 'The Dark Knight Rises\\xa0', '1144337', '106759', 'Joseph Gordon-Levitt', '0', 'deception|imprisonment|lawlessness|police officer|terrorist plot', 'http://www.imdb.com/title/tt1345836/?ref_=fn_tt_tt_1', '2701', 'English', 'USA', 'PG-13', '250000000', '2012', '23000', '8.5', '2.35', '164000'], ['', 'Doug Walker', '', '', '131', '', 'Rob Walker', '131', '', 'Documentary', 'Doug Walker', 'Star Wars: Episode VII - The Force Awakens\\xa0            ', '8', '143', '', '0', '', 'http://www.imdb.com/title/tt5289954/?ref_=fn_tt_tt_1', '', '', '', '', '', '', '12', '7.1', '', '0']]\n"
     ]
    }
   ],
   "source": [
    "# Test de funcionamiento\n",
    "\n",
    "full_header, full_list_data = load_full_data(MOVIES_DATA)\n",
    "print(full_header)\n",
    "print()\n",
    "print(full_list_data[1:5])"
   ]
  },
  {
   "cell_type": "markdown",
   "metadata": {},
   "source": [
    "Salida esperada:\n",
    "\n",
    "    ['color', 'director_name', 'num_critic_for_reviews', 'duration', 'director_facebook_likes', 'actor_3_facebook_likes', 'actor_2_name', 'actor_1_facebook_likes', 'gross', 'genres', 'actor_1_name', 'movie_title', 'num_voted_users', 'cast_total_facebook_likes', 'actor_3_name', 'facenumber_in_poster', 'plot_keywords', 'movie_imdb_link', 'num_user_for_reviews', 'language', 'country', 'content_rating', 'budget', 'title_year', 'actor_2_facebook_likes', 'imdb_score', 'aspect_ratio', 'movie_facebook_likes']\n",
    "\n",
    "    [['Color', 'James Cameron', '723', '178', '0', '855', 'Joel David Moore', '1000', '760505847', 'Action|Adventure|Fantasy|Sci-Fi', 'CCH Pounder', 'Avatar\\xa0', '886204', '4834', 'Wes Studi', '0', 'avatar|future|marine|native|paraplegic', 'http://www.imdb.com/title/tt0499549/?ref_=fn_tt_tt_1', '3054', 'English', 'USA', 'PG-13', '237000000', '2009', '936', '7.9', '1.78', '33000'], ['Color', 'Gore Verbinski', '302', '169', '563', '1000', 'Orlando Bloom', '40000', '309404152', 'Action|Adventure|Fantasy', 'Johnny Depp', \"Pirates of the Caribbean: At World's End\\xa0\", '471220', '48350', 'Jack Davenport', '0', 'goddess|marriage ceremony|marriage proposal|pirate|singapore', 'http://www.imdb.com/title/tt0449088/?ref_=fn_tt_tt_1', '1238', 'English', 'USA', 'PG-13', '300000000', '2007', '5000', '7.1', '2.35', '0'], ['Color', 'Sam Mendes', '602', '148', '0', '161', 'Rory Kinnear', '11000', '200074175', 'Action|Adventure|Thriller', 'Christoph Waltz', 'Spectre\\xa0', '275868', '11700', 'Stephanie Sigman', '1', 'bomb|espionage|sequel|spy|terrorist', 'http://www.imdb.com/title/tt2379713/?ref_=fn_tt_tt_1', '994', 'English', 'UK', 'PG-13', '245000000', '2015', '393', '6.8', '2.35', '85000'], ['Color', 'Christopher Nolan', '813', '164', '22000', '23000', 'Christian Bale', '27000', '448130642', 'Action|Thriller', 'Tom Hardy', 'The Dark Knight Rises\\xa0', '1144337', '106759', 'Joseph Gordon-Levitt', '0', 'deception|imprisonment|lawlessness|police officer|terrorist plot', 'http://www.imdb.com/title/tt1345836/?ref_=fn_tt_tt_1', '2701', 'English', 'USA', 'PG-13', '250000000', '2012', '23000', '8.5', '2.35', '164000'], ['', 'Doug Walker', '', '', '131', '', 'Rob Walker', '131', '', 'Documentary', 'Doug Walker', 'Star Wars: Episode VII - The Force Awakens\\xa0            ', '8', '143', '', '0', '', 'http://www.imdb.com/title/tt5289954/?ref_=fn_tt_tt_1', '', '', '', '', '', '', '12', '7.1', '', '0']]\n",
    "\n",
    "    "
   ]
  },
  {
   "cell_type": "markdown",
   "metadata": {},
   "source": [
    "Ahora, querríamos ver las posiciones de los identificadores de los campos, dados en la línea cabecera."
   ]
  },
  {
   "cell_type": "code",
   "execution_count": 673,
   "metadata": {},
   "outputs": [],
   "source": [
    "# Esta celda debe ser completada por el estudiante\n",
    "list_of_enumerated_headers = [(i, full_header[i]) for i in range(len(full_header))]\n",
    "\n"
   ]
  },
  {
   "cell_type": "code",
   "execution_count": 674,
   "metadata": {},
   "outputs": [
    {
     "name": "stdout",
     "output_type": "stream",
     "text": [
      "[(0, 'color'), (1, 'director_name'), (2, 'num_critic_for_reviews'), (3, 'duration'), (4, 'director_facebook_likes'), (5, 'actor_3_facebook_likes'), (6, 'actor_2_name'), (7, 'actor_1_facebook_likes'), (8, 'gross'), (9, 'genres'), (10, 'actor_1_name'), (11, 'movie_title'), (12, 'num_voted_users'), (13, 'cast_total_facebook_likes'), (14, 'actor_3_name'), (15, 'facenumber_in_poster'), (16, 'plot_keywords'), (17, 'movie_imdb_link'), (18, 'num_user_for_reviews'), (19, 'language'), (20, 'country'), (21, 'content_rating'), (22, 'budget'), (23, 'title_year'), (24, 'actor_2_facebook_likes'), (25, 'imdb_score'), (26, 'aspect_ratio'), (27, 'movie_facebook_likes')]\n"
     ]
    }
   ],
   "source": [
    "# Test de funcionamiento\n",
    "\n",
    "print(list_of_enumerated_headers)"
   ]
  },
  {
   "cell_type": "markdown",
   "metadata": {},
   "source": [
    "Salida Esperada:\n",
    "\n",
    "    [(0, 'color'), (1, 'director_name'), (2, 'num_critic_for_reviews'), (3, 'duration'), (4, 'director_facebook_likes'), (5, 'actor_3_facebook_likes'), (6, 'actor_2_name'), (7, 'actor_1_facebook_likes'), (8, 'gross'), (9, 'genres'), (10, 'actor_1_name'), (11, 'movie_title'), (12, 'num_voted_users'), (13, 'cast_total_facebook_likes'), (14, 'actor_3_name'), (15, 'facenumber_in_poster'), (16, 'plot_keywords'), (17, 'movie_imdb_link'), (18, 'num_user_for_reviews'), (19, 'language'), (20, 'country'), (21, 'content_rating'), (22, 'budget'), (23, 'title_year'), (24, 'actor_2_facebook_likes'), (25, 'imdb_score'), (26, 'aspect_ratio'), (27, 'movie_facebook_likes')]"
   ]
  },
  {
   "cell_type": "markdown",
   "metadata": {},
   "source": [
    "### A.2. Campos principales de una película\n",
    "\n",
    "Los campos (columnas) del archivo son demasiados. No nos interesan todos ellos. Dada una lista con todos los campos, se pide extraer otra lista sólo con los campos con los que vamos a trabajar en los siguientes apartados: `movie_title`, `title_year`, `director_name`, `actor_1_name`, `language`, `country`, `color`, `budget`, `imdb_score` y `movie_imdb_link`."
   ]
  },
  {
   "cell_type": "code",
   "execution_count": 675,
   "metadata": {},
   "outputs": [],
   "source": [
    "# Esta celda debe ser completada por el estudiante\n",
    "\n",
    "def main_data_from_item(ListItems):\n",
    "    index_list = [11, 23, 1, 10, 19, 20, 0, 22, 25, 17]\n",
    "    itemsList = []\n",
    "\n",
    "    for row_list_header in index_list:\n",
    "        itemsList.append(ListItems[row_list_header])\n",
    "    return itemsList"
   ]
  },
  {
   "cell_type": "code",
   "execution_count": 707,
   "metadata": {},
   "outputs": [
    {
     "name": "stdout",
     "output_type": "stream",
     "text": [
      "['movie_title', 'title_year', 'director_name', 'actor_1_name', 'language', 'country', 'color', 'budget', 'imdb_score', 'movie_imdb_link']\n",
      "\n",
      "['Avatar\\xa0', '2009', 'James Cameron', 'CCH Pounder', 'English', 'USA', 'Color', '237000000', '7.9', 'http://www.imdb.com/title/tt0499549/?ref_=fn_tt_tt_1']\n",
      "\n",
      "['Star Wars: Episode VII - The Force Awakens\\xa0            ', '', 'Doug Walker', 'Doug Walker', '', '', '', '', '7.1', 'http://www.imdb.com/title/tt5289954/?ref_=fn_tt_tt_1']\n"
     ]
    }
   ],
   "source": [
    "# Test de funcionamiento\n",
    "\n",
    "print(main_data_from_item(full_header))\n",
    "\n",
    "print()\n",
    "\n",
    "datos_avatar_2009 = main_data_from_item(full_list_data[0])\n",
    "print(datos_avatar_2009)\n",
    "\n",
    "print()\n",
    "\n",
    "datos_star_wars_7 = main_data_from_item(full_list_data[4])\n",
    "print(datos_star_wars_7)"
   ]
  },
  {
   "cell_type": "markdown",
   "metadata": {},
   "source": [
    "Salida esperada\n",
    "\n",
    "    ['movie_title', 'title_year', 'director_name', 'actor_1_name', 'language', 'country', 'color', 'budget', 'imdb_score', 'movie_imdb_link']\n",
    "\n",
    "    ['Avatar\\xa0', '2009', 'James Cameron', 'CCH Pounder', 'English', 'USA', 'Color', '237000000', '7.9', 'http://www.imdb.com/title/tt0499549/?ref_=fn_tt_tt_1']\n",
    "\n",
    "    ['Star Wars: Episode VII - The Force Awakens\\xa0            ', '', 'Doug Walker', 'Doug Walker', '', '', '', '', '7.1', 'http://www.imdb.com/title/tt5289954/?ref_=fn_tt_tt_1']"
   ]
  },
  {
   "cell_type": "markdown",
   "metadata": {},
   "source": [
    "### A.3. Algunos ajustes en los campos"
   ]
  },
  {
   "cell_type": "markdown",
   "metadata": {},
   "source": [
    "Observa la anomalía en el string del título de la película. También, queremos tratar algunos campos como numéricos, ya sea enteros (el año y el presupuesto) o reales (la valoración). (Algunos campos numéricos enteros están vacíos en el archivo de datos; para ellos, el valor imputado será `-1`.) Además, en las urls de las películas no necesitaremos el fragmento final, iniciado con `?ref_`."
   ]
  },
  {
   "cell_type": "code",
   "execution_count": 795,
   "metadata": {},
   "outputs": [],
   "source": [
    "# Esta celda debe ser completada por el estudiante\n",
    "def datatypes_arranged(listTypes):              \n",
    "        replaicing  =[['\\xa0', ''],['?ref_=fn_tt_tt_1', '']]\n",
    "        \n",
    "        repalce_map = dict(replaicing)\n",
    "        \n",
    "        for key, val in repalce_map.items():\n",
    "                listTypes = [ele.replace(key, val) for ele in listTypes]       \n",
    "                \n",
    "                try:\n",
    "                        for elements in listTypes:                               \n",
    "                                if listTypes[1] == '':\n",
    "                                        listTypes[1] = '-1'\n",
    "                                if listTypes[7] == '':\n",
    "                                        listTypes[7] = '-1'\n",
    "                except:\n",
    "                        break\n",
    "        return listTypes\n",
    "\n",
    "\n",
    "\n",
    "\n",
    "\n"
   ]
  },
  {
   "cell_type": "code",
   "execution_count": 796,
   "metadata": {},
   "outputs": [
    {
     "name": "stdout",
     "output_type": "stream",
     "text": [
      "['Avatar', '2009', 'James Cameron', 'CCH Pounder', 'English', 'USA', 'Color', '237000000', '7.9', 'http://www.imdb.com/title/tt0499549/']\n",
      "['Star Wars: Episode VII - The Force Awakens            ', '-1', 'Doug Walker', 'Doug Walker', '', '', '', '-1', '7.1', 'http://www.imdb.com/title/tt5289954/']\n"
     ]
    }
   ],
   "source": [
    "# Test de funcionamiento\n",
    "\n",
    "print(datatypes_arranged(datos_avatar_2009))\n",
    "\n",
    "print(datatypes_arranged(datos_star_wars_7))\n"
   ]
  },
  {
   "cell_type": "markdown",
   "metadata": {},
   "source": [
    "Salida Esperada:\n",
    "\n",
    "    ['Avatar', 2009, 'James Cameron', 'CCH Pounder', 'English', 'USA', 'Color', 237000000, 7.9, 'http://www.imdb.com/title/tt0499549/']\n",
    "    ['Star Wars: Episode VII - The Force Awakens', -1, 'Doug Walker', 'Doug Walker', '', '', '', -1, 7.1, 'http://www.imdb.com/title/tt5289954/']\n"
   ]
  },
  {
   "cell_type": "markdown",
   "metadata": {},
   "source": [
    "### A.4. Recuperación de alguna información básica\n",
    "\n",
    "<br>\n",
    "\n",
    "Diseña funciones para recuperar la siguiente información:\n",
    "\n",
    "<itemize>\n",
    "    <li> El cojunto de valores posibles del campo `Color`.\n",
    "    <li> Los títulos de película de nuestro archivo (limpios de caracteres extraños), junto con el año de producción (un entero), que contengan la subcadena \"Vict\".\n",
    "</itemize>"
   ]
  },
  {
   "cell_type": "code",
   "execution_count": 814,
   "metadata": {},
   "outputs": [
    {
     "name": "stdout",
     "output_type": "stream",
     "text": [
      "['Victor Frankenstein', 'Victor Frankenstein', 'The Young Victoria', 'Victor Frankenstein', 'Raising Victor Vargas']\n"
     ]
    }
   ],
   "source": [
    "# Esta celda debe ser completada por el estudiante\n",
    "def get_colores(ListItems, index=0):    \n",
    "    return set([Rows[index] for Rows in ListItems])\n",
    "\n",
    "import re\n",
    "pattern = re.compile('Vict')\n",
    "res = []\n",
    "\n",
    "for rows in full_list_data:\n",
    "    res.append((rows[11]))\n",
    "\n",
    "filtered_words = [res for res in res if pattern.search(res)]\n",
    "print(datatypes_arranged(filtered_words)) \n",
    "\n",
    "\n",
    "\n",
    "\n",
    "\n"
   ]
  },
  {
   "cell_type": "code",
   "execution_count": 709,
   "metadata": {},
   "outputs": [
    {
     "name": "stdout",
     "output_type": "stream",
     "text": [
      "{'', 'Color', ' Black and White'}\n"
     ]
    }
   ],
   "source": [
    "# Test de funcionamiento\n",
    "\n",
    "\n",
    "colores = get_colores(full_list_data)\n",
    "#pelis_victor = get_filter_movies(full_list_data, 'Vict')\n",
    "\n",
    "print(colores)\n",
    "#print(pelis_victor)"
   ]
  },
  {
   "cell_type": "markdown",
   "metadata": {},
   "source": [
    "Salida esperada:\n",
    "\n",
    "    {'', ' Black and White', 'Color'}\n",
    "    [('Victor Frankenstein', 159), ('Victor Frankenstein', 159), ('The Young Victoria', 188), ('Victor Frankenstein', 159), ('Raising Victor Vargas', 59)]"
   ]
  },
  {
   "cell_type": "markdown",
   "metadata": {},
   "source": [
    "# B Datos en un diccionario [2 puntos]\n",
    "\n",
    "### B.1. Carga únicamente de datos que vamos a usar\n",
    "\n",
    "En lugar de cargar *todos* los datos del archivo, luego generar otro archivo con los datos que nos interesan y luego ajustarlos, es mejor diseñar una función que recorre el archivo de datos y, de cada línea del archivo, *únicamente* retiene la parte que nos interesa, cargando la cabecera por un lado y, por otro, la lista de datos de interés, ajustados como ya hemos dicho.\n",
    "\n",
    "Cargaremos esta información en un diccionario, cuyas claves serán pares `(título, año)` y cuyos valores se recogen en una lista con el resto de los campos.\n",
    "\n",
    "Además, los datos de cada película tras la clave `(título, año)` están repetidas en el archivo de datos, con todos los datos idénticos; y lo que es peor: alguna que está repetida, pero con algún dato distinto. En ambos casos, para simplificar, adoptamos el criterio de registrar únicamente la primera aparición de los datos de una misma película y año."
   ]
  },
  {
   "cell_type": "code",
   "execution_count": null,
   "metadata": {},
   "outputs": [],
   "source": [
    "# Esta celda debe ser completada por el estudiante\n",
    "\n"
   ]
  },
  {
   "cell_type": "code",
   "execution_count": 30,
   "metadata": {},
   "outputs": [
    {
     "ename": "NameError",
     "evalue": "name 'load_main_data' is not defined",
     "output_type": "error",
     "traceback": [
      "\u001b[0;31m---------------------------------------------------------------------------\u001b[0m",
      "\u001b[0;31mNameError\u001b[0m                                 Traceback (most recent call last)",
      "\u001b[0;32m<ipython-input-30-ea2bd1fcdbc6>\u001b[0m in \u001b[0;36m<module>\u001b[0;34m\u001b[0m\n\u001b[1;32m      1\u001b[0m \u001b[0;31m# Test de funcionamiento\u001b[0m\u001b[0;34m\u001b[0m\u001b[0;34m\u001b[0m\u001b[0;34m\u001b[0m\u001b[0m\n\u001b[1;32m      2\u001b[0m \u001b[0;34m\u001b[0m\u001b[0m\n\u001b[0;32m----> 3\u001b[0;31m \u001b[0mmain_header\u001b[0m\u001b[0;34m,\u001b[0m \u001b[0mmain_dict_data\u001b[0m \u001b[0;34m=\u001b[0m \u001b[0mload_main_data\u001b[0m\u001b[0;34m(\u001b[0m\u001b[0mMOVIES_DATA\u001b[0m\u001b[0;34m)\u001b[0m\u001b[0;34m\u001b[0m\u001b[0;34m\u001b[0m\u001b[0m\n\u001b[0m\u001b[1;32m      4\u001b[0m \u001b[0;34m\u001b[0m\u001b[0m\n\u001b[1;32m      5\u001b[0m \u001b[0mprint\u001b[0m\u001b[0;34m(\u001b[0m\u001b[0mmain_header\u001b[0m\u001b[0;34m)\u001b[0m\u001b[0;34m\u001b[0m\u001b[0;34m\u001b[0m\u001b[0m\n",
      "\u001b[0;31mNameError\u001b[0m: name 'load_main_data' is not defined"
     ]
    }
   ],
   "source": [
    "# Test de funcionamiento\n",
    "\n",
    "main_header, main_dict_data = load_main_data(MOVIES_DATA)\n",
    "\n",
    "print(main_header)\n",
    "print()\n",
    "for title_year, pieces in list(main_dict_data.items())[:5]:\n",
    "    print(title_year, \" -> \", pieces)"
   ]
  },
  {
   "cell_type": "markdown",
   "metadata": {},
   "source": [
    "Salida Esperada:\n",
    "\n",
    "    ['movie_title', 'title_year', 'director_name', 'actor_1_name', 'language', 'country', 'color', 'budget', 'imdb_score', 'movie_imdb_link']\n",
    "\n",
    "    ('Avatar', 2009)  ->  ['James Cameron', 'CCH Pounder', 'English', 'USA', 'Color', 237000000, 7.9, 'http://www.imdb.com/title/tt0499549/']\n",
    "    (\"Pirates of the Caribbean: At World's End\", 2007)  ->  ['Gore Verbinski', 'Johnny Depp', 'English', 'USA', 'Color', 300000000, 7.1, 'http://www.imdb.com/title/tt0449088/']\n",
    "    ('Spectre', 2015)  ->  ['Sam Mendes', 'Christoph Waltz', 'English', 'UK', 'Color', 245000000, 6.8, 'http://www.imdb.com/title/tt2379713/']\n",
    "    ('The Dark Knight Rises', 2012)  ->  ['Christopher Nolan', 'Tom Hardy', 'English', 'USA', 'Color', 250000000, 8.5, 'http://www.imdb.com/title/tt1345836/']\n",
    "    ('Star Wars: Episode VII - The Force Awakens', -1)  ->  ['Doug Walker', 'Doug Walker', '', '', '', -1, 7.1, 'http://www.imdb.com/title/tt5289954/']\n"
   ]
  },
  {
   "cell_type": "markdown",
   "metadata": {},
   "source": [
    "Y ahora podemos suprimir la variable `full_list_data`"
   ]
  },
  {
   "cell_type": "code",
   "execution_count": null,
   "metadata": {},
   "outputs": [],
   "source": [
    "# Esta celda debe ser completada por el estudiante\n",
    "\n"
   ]
  },
  {
   "cell_type": "code",
   "execution_count": null,
   "metadata": {},
   "outputs": [],
   "source": [
    "# Test de funcionamiento\n",
    "\n",
    "try:\n",
    "    print(full_list_data)\n",
    "except:\n",
    "    print('La variable full_list_data está suprimida correctamente')"
   ]
  },
  {
   "cell_type": "markdown",
   "metadata": {},
   "source": [
    "### B.2. Recuperación de alguna información \n",
    "\n",
    "Diseña funciones para averiguar la siguiente información:\n",
    "\n",
    "- ¿Qué títulos de películas han sido dirigidas por \"James Cameron\" (o por el director que se desee)?"
   ]
  },
  {
   "cell_type": "code",
   "execution_count": null,
   "metadata": {},
   "outputs": [],
   "source": [
    "# Esta celda debe ser completada por el estudiante\n",
    "\n"
   ]
  },
  {
   "cell_type": "code",
   "execution_count": null,
   "metadata": {},
   "outputs": [],
   "source": [
    "# Test de funcionamiento\n",
    "    \n",
    "movies_anno_for_director(main_dict_data, \"James Cameron\")"
   ]
  },
  {
   "cell_type": "markdown",
   "metadata": {},
   "source": [
    "Salida esperada:\n",
    "\n",
    "    [('Avatar', 2009),\n",
    "     ('Titanic', 1997),\n",
    "     ('Terminator 2: Judgment Day', 1991),\n",
    "     ('True Lies', 1994),\n",
    "     ('The Abyss', 1989),\n",
    "     ('Aliens', 1986),\n",
    "     ('The Terminator', 1984)]"
   ]
  },
  {
   "cell_type": "markdown",
   "metadata": {},
   "source": [
    "- ¿Qué directores han dirigido el número máximo de películas?"
   ]
  },
  {
   "cell_type": "code",
   "execution_count": null,
   "metadata": {},
   "outputs": [],
   "source": [
    "# Esta celda debe ser completada por el estudiante\n",
    "\n"
   ]
  },
  {
   "cell_type": "code",
   "execution_count": null,
   "metadata": {},
   "outputs": [],
   "source": [
    "# Test de funcionamiento\n",
    "    \n",
    "print(directors_max_movies(main_dict_data))"
   ]
  },
  {
   "cell_type": "markdown",
   "metadata": {},
   "source": [
    "Salida esperada:\n",
    "\n",
    "    (['Steven Spielberg'], 26)"
   ]
  },
  {
   "cell_type": "markdown",
   "metadata": {},
   "source": [
    "- Para cada año de un intervalo dado de años, ¿cuántas películas se han realizado? Esta información debe recuperrase en un diccionario convencional (no por defecto), y luego debe mostrarse en una lista con los años en orden ascendente.."
   ]
  },
  {
   "cell_type": "code",
   "execution_count": null,
   "metadata": {},
   "outputs": [],
   "source": [
    "# Esta celda debe ser completada por el estudiante\n",
    "\n"
   ]
  },
  {
   "cell_type": "code",
   "execution_count": null,
   "metadata": {},
   "outputs": [],
   "source": [
    "# Test de funcionamiento\n",
    "    \n",
    "num_movies = years_num_movies(main_dict_data, 2000, 2015)\n",
    "\n",
    "print(num_movies)"
   ]
  },
  {
   "cell_type": "markdown",
   "metadata": {},
   "source": [
    "Salida esperada:\n",
    "\n",
    "    {2009: 253, 2007: 198, 2015: 211, 2012: 214, 2010: 225, 2006: 235, 2008: 223, 2013: 231, 2011: 224, 2014: 243, 2005: 216, 2004: 207, 2003: 169, 2001: 183, 2002: 204, 2000: 169}    "
   ]
  },
  {
   "cell_type": "code",
   "execution_count": null,
   "metadata": {},
   "outputs": [],
   "source": [
    "# Esta celda debe ser completada por el estudiante\n",
    "\n"
   ]
  },
  {
   "cell_type": "code",
   "execution_count": null,
   "metadata": {},
   "outputs": [],
   "source": [
    "# Test de funcionamiento\n",
    "    \n",
    "print(num_movies_sorted)"
   ]
  },
  {
   "cell_type": "markdown",
   "metadata": {},
   "source": [
    "Salida esperada:\n",
    "\n",
    "    [(2000, 169), (2001, 183), (2002, 204), (2003, 169), (2004, 207), (2005, 216), (2006, 235), (2007, 198), (2008, 223), (2009, 253), (2010, 225), (2011, 224), (2012, 214), (2013, 231), (2014, 243), (2015, 211)]"
   ]
  },
  {
   "cell_type": "markdown",
   "metadata": {},
   "source": [
    "- Diseña también una operación que, partiendo de nuestro diccionario de los datos principales, almacene en un archivo los datos siguientes de cada película, sin la cabecera: el título, el año, el país y el presupuesto. El separador será en este caso el punto y coma. El archivo usado para el almacenamiento es el siguiente:\n",
    "\n",
    "    ``` python\n",
    "    FEW_FIELDS = \"algunos_campos.txt\"\n",
    "    ```"
   ]
  },
  {
   "cell_type": "code",
   "execution_count": null,
   "metadata": {},
   "outputs": [],
   "source": [
    "# Esta celda debe ser completada por el estudiante\n",
    "\n"
   ]
  },
  {
   "cell_type": "code",
   "execution_count": null,
   "metadata": {},
   "outputs": [],
   "source": [
    "# Test de funciomaniemto\n",
    "\n",
    "store_file(main_dict_data, FEW_FIELDS)\n",
    "\n",
    "! ls data_in/algunos*\n",
    "# En windows\n",
    "# ! dir data_in\\algunos*.*\n",
    "\n",
    "\n",
    "print()\n",
    "\n",
    "with open(FEW_FIELDS) as f:\n",
    "    for i in range(5):\n",
    "        print(f.readline())"
   ]
  },
  {
   "cell_type": "markdown",
   "metadata": {},
   "source": [
    "Salida esperada:\n",
    "\n",
    "    data_in/algunos_campos.txt\n",
    "    \n",
    "    Avatar|2009|English|USA|237000000\n",
    "    \n",
    "    Pirates of the Caribbean: At World's End|2007|English|USA|300000000\n",
    "    \n",
    "    Spectre|2015|English|UK|245000000\n",
    "    \n",
    "    The Dark Knight Rises|2012|English|USA|250000000\n",
    "    \n",
    "    Star Wars: Episode VII - The Force Awakens|-1|||-1"
   ]
  },
  {
   "cell_type": "markdown",
   "metadata": {},
   "source": [
    "### B.3. Un conteo sencillo con `defaultdict`\n",
    "\n",
    "Deseamos saber con qué directores y número de veces ha actuado cada actor como actor principal. Se pide realizar este conteo en un `defaultdict` cuyas claves serán nombres de los actores y cuyos valores tendrán la estructura de un `defaultdict`, cuyas claves serán los nombres de los directores y cuyos valores serán los núneros contabilizados."
   ]
  },
  {
   "cell_type": "code",
   "execution_count": null,
   "metadata": {},
   "outputs": [],
   "source": [
    "# Esta celda debe ser completada por el estudiante\n",
    "\n"
   ]
  },
  {
   "cell_type": "code",
   "execution_count": null,
   "metadata": {},
   "outputs": [],
   "source": [
    "# Test de funcionamiento\n",
    "\n",
    "num_collaborations = actor_directors(main_dict_data)\n",
    "\n",
    "print(type(num_collaborations))\n",
    "key_a, value_a = list(num_collaborations.items())[0]\n",
    "print(type(key_a), type(value_a))\n",
    "key_b, value_b = list(value_a.items())[0]\n",
    "print(type(key_b), type(value_b))\n",
    "\n",
    "print()\n",
    "\n",
    "print(str(num_collaborations)[:1000])"
   ]
  },
  {
   "cell_type": "markdown",
   "metadata": {},
   "source": [
    "**Nota.** La siguiente salida puede cambiar puesto que el orden de los datos en un diccionario no es fijo. Debe ser similar a la esperada\n",
    "\n",
    "Salida esperada:\n",
    "\n",
    "    <class 'collections.defaultdict'>\n",
    "    <class 'str'> <class 'collections.defaultdict'>\n",
    "    <class 'str'> <class 'int'>\n",
    "    \n",
    "    defaultdict(<function actor_directors.<locals>.<lambda> at 0x7f9b6c0c4ea0>, {'CCH Pounder': defaultdict(<class 'int'>, {'James Cameron': 1, 'Peter Hyams': 1, 'Fred Dekker': 1, 'Ernest R. Dickerson': 1}), 'Johnny Depp': defaultdict(<class 'int'>, {'Gore Verbinski': 5, 'Rob Marshall': 2, 'Tim Burton': 6, 'James Bobin': 1, 'Michael Mann': 1, 'Florian Henckel von Donnersmarck': 1, 'Wally Pfister': 1, 'David Koepp': 2, 'Scott Cooper': 1, 'Albert Hughes': 1, 'Roman Polanski': 1, 'Wes Craven': 1, 'Mike Newell': 1, 'Rand Ravich': 1, 'Ted Demme': 1, 'Robert Rodriguez': 1, 'Marc Forster': 1, 'Jeremy Leven': 1, 'Laurence Dunmore': 1, 'Terry Gilliam': 1, 'Lasse Hallström': 1, 'Oliver Stone': 1, 'Rachel Talalay': 1, 'Kevin Smith': 2}), 'Christoph Waltz': defaultdict(<class 'int'>, {'Sam Mendes': 1, 'David Yates': 1, 'Michel Gondry': 1, 'Tim Burton': 1}), 'Tom Hardy': defaultdict(<class 'int'>, {'Christopher Nolan': 1, 'George Miller': 1, 'McG': 1, 'Stuart Baird': 1, 'Daniel Espinosa': 1, 'Brian Hel\n"
   ]
  },
  {
   "cell_type": "markdown",
   "metadata": {},
   "source": [
    "### B.4. Print seleccionado\n",
    "\n",
    "Demasiada información. Deseamos imprimir únicamente, para cada actor, las colaboraciones que superen un mínimo, dato entrada. Si un actor no tiene ninguna colaboración que supere dicho mínimo, lógicamente no debe mostrarse."
   ]
  },
  {
   "cell_type": "code",
   "execution_count": null,
   "metadata": {},
   "outputs": [],
   "source": [
    "# Esta celda debe ser completada por el estudiante\n",
    "\n"
   ]
  },
  {
   "cell_type": "markdown",
   "metadata": {},
   "source": [
    "Salida esperada: \n",
    "\n",
    "    Johnny Depp  ->  [('Gore Verbinski', 5), ('Tim Burton', 6)]\n",
    "    Leonardo DiCaprio  ->  [('Martin Scorsese', 5)]\n",
    "    Robert De Niro  ->  [('Martin Scorsese', 7)]\n",
    "    Bill Murray  ->  [('Wes Anderson', 5)]\n",
    "    Clint Eastwood  ->  [('Clint Eastwood', 10)]\n",
    "    Woody Allen  ->  [('Woody Allen', 10)]"
   ]
  },
  {
   "cell_type": "markdown",
   "metadata": {},
   "source": [
    "# C. Algunos gráficos sencillos [1 punto]\n",
    "\n",
    "\n",
    "### C.1 Un modelo de gráfica\n",
    "\n",
    "Vamos a diseñar un modelo de gráfica sencillo que nos sirva para las siguientes representaciones. Tomará como parámetro una lista de pares $(x, y)$, y opcionalmente los tres rótulos explicativos que necesitamos incluir. Además, queremos que las etiquetas de las abcisas aparezcan inclinadas, para poder luego mostrar intervalos de edad.\n",
    "\n",
    "Las pruebas de funcionamiento te darán más información que las explicaciones que pueda yo dar aquí.  "
   ]
  },
  {
   "cell_type": "code",
   "execution_count": 423,
   "metadata": {},
   "outputs": [],
   "source": [
    "\n",
    "def representar_xxx_yyy(lista_pares, tres_rotulos = []):\n",
    "    \"\"\" Falta documentación estándar \"\"\"\n",
    "    intervalos_de_edad = [str(intervalo) for (intervalo, tasa) in lista_pares]\n",
    "    tasas = [tasa for (intervalo, tasa) in lista_pares]\n",
    "\n",
    "# Esta parde de la celda debe ser completada por el estudiante\n",
    "\n",
    "    "
   ]
  },
  {
   "cell_type": "code",
   "execution_count": 424,
   "metadata": {},
   "outputs": [],
   "source": [
    "# Pruebas de funcionamiento:\n",
    "\n",
    "representar_xxx_yyy([(1, 8), (2, 4), (3, 2), (4, 1), (5, 0.5), (6, 0.25)], [\"Serie descendente\", \"Ordenadas\", \"Abcisas\"])\n",
    "\n",
    "representar_xxx_yyy([(1, 1), (2, 2), (3, 4), (4, 8), (5, 16), (6, 32)])"
   ]
  },
  {
   "cell_type": "markdown",
   "metadata": {},
   "source": [
    "Salida esperada:\n",
    "\n",
    "<img src='images/graph_01.png' width='800px' alt='Salida esperada del gráfico anterior: curva descentente y curva ascendente' />"
   ]
  },
  {
   "cell_type": "markdown",
   "metadata": {},
   "source": [
    "### Una gráfica concreta\n",
    "\n",
    "Deseamos representar el número de películas de nuestra base de datos que se han producido en un intervalo de años dado."
   ]
  },
  {
   "cell_type": "code",
   "execution_count": null,
   "metadata": {},
   "outputs": [],
   "source": [
    "# Esta celda debe ser completada por el estudiante\n",
    "\n"
   ]
  },
  {
   "cell_type": "code",
   "execution_count": null,
   "metadata": {},
   "outputs": [],
   "source": [
    "# Test de funcionamiento\n",
    "\n",
    "repr_movies_years(main_dict_data, 2000, 2010)\n",
    "repr_movies_years(main_dict_data, 2005, 2015)"
   ]
  },
  {
   "cell_type": "markdown",
   "metadata": {},
   "source": [
    "Salida esperada:\n",
    "\n",
    "<img src='images/graph_02.png' width='800px' alt='' />"
   ]
  },
  {
   "cell_type": "markdown",
   "metadata": {},
   "source": [
    "# D. Acceso a las urls de imdb y webscraping [2 puntos]\n",
    "\n",
    "### D.1. Recuperación de las URLs\n",
    "\n",
    "Con sencillas instrucciones, deseamos recuperar todas las *urls* de las películas de nuestro archivo, mostrando cuántas son, la primera de ellas o las diez primeras por ejemplo:"
   ]
  },
  {
   "cell_type": "code",
   "execution_count": null,
   "metadata": {},
   "outputs": [],
   "source": [
    "# Esta celda debe ser completada por el estudiante\n",
    "\n"
   ]
  },
  {
   "cell_type": "code",
   "execution_count": null,
   "metadata": {},
   "outputs": [],
   "source": [
    "# Test de funcionamiento\n",
    "\n",
    "print(len(urls))\n",
    "\n",
    "print()\n",
    "\n",
    "print(first_url_movie)\n",
    "\n",
    "print()\n",
    "\n",
    "print(first_ten_urls)"
   ]
  },
  {
   "cell_type": "markdown",
   "metadata": {},
   "source": [
    "Salida esperada:\n",
    "\n",
    "    4919\n",
    "    \n",
    "    http://www.imdb.com/title/tt0499549/\n",
    "    \n",
    "    ['http://www.imdb.com/title/tt0499549/', 'http://www.imdb.com/title/tt0449088/', 'http://www.imdb.com/title/tt2379713/', 'http://www.imdb.com/title/tt1345836/', 'http://www.imdb.com/title/tt5289954/', 'http://www.imdb.com/title/tt0401729/', 'http://www.imdb.com/title/tt0413300/', 'http://www.imdb.com/title/tt0398286/', 'http://www.imdb.com/title/tt2395427/', 'http://www.imdb.com/title/tt0417741/']    "
   ]
  },
  {
   "cell_type": "markdown",
   "metadata": {},
   "source": [
    "### D.2. Carga de la estructura sintáctica de una URL\n",
    "\n",
    "Ahora, deseamos extraer el código `html` de una película."
   ]
  },
  {
   "cell_type": "code",
   "execution_count": null,
   "metadata": {},
   "outputs": [],
   "source": [
    "# Una forma de evitar el error \"Requests 403 forbidden\" al hacer web scraping en las siguientes celdas:\n",
    "\n",
    "HEADERS = {\n",
    "        \"User-Agent\": \"Mozilla/5.0 (Windows NT 10.0; Win64; x64; rv:98.0) Gecko/20100101 Firefox/98.0\",\n",
    "        \"Accept\": \"text/html,application/xhtml+xml,application/xml;q=0.9,image/avif,image/webp,*/*;q=0.8\",\n",
    "        \"Accept-Language\": \"en-US,en;q=0.5\",\n",
    "        \"Accept-Encoding\": \"gzip, deflate\",\n",
    "        \"Connection\": \"keep-alive\",\n",
    "        \"Upgrade-Insecure-Requests\": \"1\",\n",
    "        \"Sec-Fetch-Dest\": \"document\",\n",
    "        \"Sec-Fetch-Mode\": \"navigate\",\n",
    "        \"Sec-Fetch-Site\": \"none\",\n",
    "        \"Sec-Fetch-User\": \"?1\",\n",
    "        \"Cache-Control\": \"max-age=0\",\n",
    "    }"
   ]
  },
  {
   "cell_type": "code",
   "execution_count": null,
   "metadata": {},
   "outputs": [],
   "source": [
    "# Esta celda debe ser completada por el estudiante\n",
    "\n"
   ]
  },
  {
   "cell_type": "code",
   "execution_count": null,
   "metadata": {},
   "outputs": [],
   "source": [
    "# Test de funcionamiento\n",
    "\n",
    "soup = soup_movie(first_url_movie)\n",
    "\n",
    "print(str(soup)[:1000])\n",
    "print()\n",
    "print(\"... ... ... ... ... ... ... ... ... ... ... ... ... ... ... ... ... ... ... ... ... ... ... ... ...\")\n",
    "print()\n",
    "print(str(soup)[-1000:])"
   ]
  },
  {
   "cell_type": "markdown",
   "metadata": {},
   "source": [
    "Salida esperada:\n",
    "\n",
    "    <!DOCTYPE html>\n",
    "    <html lang=\"en-US\" translate=\"no\" xmlns:fb=\"http://www.facebook.com/2008/fbml\" xmlns:og=\"http://opengraphprotocol.org/schema/\"><head><meta charset=\"utf-8\"/><meta content=\"width=device-width\" name=\"viewport\"/><script>if(typeof uet === 'function'){ uet('bb', 'LoadTitle', {wb: 1}); }</script><script>window.addEventListener('load', (event) => {\n",
    "            if (typeof window.csa !== 'undefined' && typeof window.csa === 'function') {\n",
    "                var csaLatencyPlugin = window.csa('Content', {\n",
    "                    element: {\n",
    "                        slotId: 'LoadTitle',\n",
    "                        type: 'service-call'\n",
    "                    }\n",
    "                });\n",
    "                csaLatencyPlugin('mark', 'clickToBodyBegin', 1738853581913);\n",
    "            }\n",
    "        })</script><title>Avatar (2009) - IMDb</title><meta content=\"Avatar: Directed by James Cameron. With Sam Worthington, Zoe Saldana, Sigourney Weaver, Stephen Lang. A paraplegic Marine dispatched to the moon Pandora on a unique mission becomes torn between following hi\n",
    "    \n",
    "    ... ... ... ... ... ... ... ... ... ... ... ... ... ... ... ... ... ... ... ... ... ... ... ... ...\n",
    "    \n",
    "    g(e+c);return!!e}function n(){for(var e=RegExp(\"^https://(.*\\.(images|ssl-images|media)-amazon\\.com|\"+c.location.hostname+\")/images/\",\"i\"),d={},h=0,k=c.performance.getEntriesByType(\"resource\"),l=!1,b,a,m,f=0;f<k.length;f++)if(a=k[f],0<a.transferSize&&a.transferSize>=a.encodedBodySize&&(b=e.exec(String(a.name)))&&3===b.length){a:{b=a.serverTiming||[];for(a=0;a<b.length;a++)if(\"provider\"===b[a].name){b=b[a].description;break a}b=void 0}b&&(l||(l=g(b,\"_cdn_fr\")),\n",
    "    a=d[b]=(d[b]||0)+1,a>h&&(m=b,h=a))}g(m,\"_cdn_mp\")}d.ue&&\"function\"===typeof d.ue.tag&&c.performance&&c.location&&n()},\"cdnTagging\")(ue_csm,window);\n",
    "    \n",
    "    \n",
    "    }\n",
    "    \n",
    "    /* ◬ */\n",
    "    </script>\n",
    "    </div>\n",
    "    <noscript>\n",
    "    <img alt=\"\" height=\"1\" src=\"//fls-na.amazon.com/1/batch/1/OP/A1EVAM02EL8SFB:130-1575513-7998461:SMWGHB497V5D4NRH3FAY$uedata=s:%2Fuedata%2Fuedata%3Fnoscript%26id%3DSMWGHB497V5D4NRH3FAY:0\" style=\"display:none;visibility:hidden;\" width=\"1\"/>\n",
    "    </noscript>\n",
    "    <script>window.ue && ue.count && ue.count('CSMLibrarySize', 61663)</script></div></body></html>"
   ]
  },
  {
   "cell_type": "markdown",
   "metadata": {},
   "source": [
    "### D.3. Extracción de algunas piezas de información de una URL\n",
    "\n",
    "Y ahora, con dicho código, deseamos extraer la siguiente información, referida a la película `first_url_movie`:\n",
    "\n",
    "- La etiqueta completa del título de la película\n",
    "- La descripción (sólo el contenido).\n",
    "- La lista de actores\n",
    "- La información sobre el presupuesto"
   ]
  },
  {
   "cell_type": "code",
   "execution_count": null,
   "metadata": {},
   "outputs": [],
   "source": [
    "# Esta celda debe ser completada por el estudiante\n",
    "\n"
   ]
  },
  {
   "cell_type": "markdown",
   "metadata": {},
   "source": [
    "Salida esperada:\n",
    "\n",
    "    <title>Avatar (2009) - IMDb</title>\n",
    "    \n",
    "    Avatar: Directed by James Cameron. With Sam Worthington, Zoe Saldana, Sigourney Weaver, Stephen Lang. A paraplegic Marine dispatched to the moon Pandora on a unique mission becomes torn between following his orders and protecting the world he feels is his home.\n",
    "    \n",
    "    ['Sam Worthington', 'Zoe Saldana', 'Sigourney Weaver', 'Michelle Rodriguez', 'Stephen Lang', 'Giovanni Ribisi', 'Joel David Moore', 'CCH Pounder', 'Wes Studi', 'Laz Alonso', 'Dileep Rao', 'Matt Gerald', 'Sean Anthony Moran', 'Jason Whyte', 'Scott Lawrence', 'Kelly Kilgour', 'James Patrick Pitt', 'Sean Patrick Murphy']\n",
    "    \n",
    "    $237,000,000 (estimated)"
   ]
  },
  {
   "cell_type": "markdown",
   "metadata": {},
   "source": [
    "### D.4. Actores que intervienen en una lista de URLs\n",
    "\n",
    "Necesitamos crear un archivo con los actores de las películas de IMDB, dada la lista de sus URLs."
   ]
  },
  {
   "cell_type": "code",
   "execution_count": null,
   "metadata": {},
   "outputs": [],
   "source": [
    "# Esta celda debe ser completada por el estudiante\n",
    "\n"
   ]
  },
  {
   "cell_type": "code",
   "execution_count": null,
   "metadata": {},
   "outputs": [],
   "source": [
    "# Test de funcionamiento\n",
    "\n",
    "# OJO: esta operación puede llevar bastante tiempo.\n",
    "# Para esta prueba, usamos un número limitado de películas.\n",
    "\n",
    "gather_actors(\"actors_3_first_movies.txt\", urls[:3])\n",
    "\n",
    "with open(\"actors_3_first_movies.txt\") as f:\n",
    "    for _ in range(10):\n",
    "        line = f.readline().strip()\n",
    "        print(line)"
   ]
  },
  {
   "cell_type": "markdown",
   "metadata": {},
   "source": [
    "Salida esperada:\n",
    "\n",
    "    Sam Worthington\n",
    "    Zoe Saldana\n",
    "    Sigourney Weaver\n",
    "    Michelle Rodriguez\n",
    "    Stephen Lang\n",
    "    Giovanni Ribisi\n",
    "    Joel David Moore\n",
    "    CCH Pounder\n",
    "    Wes Studi\n",
    "    Laz Alonso"
   ]
  },
  {
   "cell_type": "code",
   "execution_count": null,
   "metadata": {},
   "outputs": [],
   "source": [
    "# La siguente llamada llevaría un tiempo realmente largo:\n",
    "\n",
    "# import time # para cronometrar esta función, que tarda mucho\n",
    "\n",
    "# reloj_inicio = time.time()\n",
    "# gather_actors(\"actors_all_movies.txt\", urls)\n",
    "# reloj_fin = time.time()\n",
    "\n",
    "# print(\"Tiempo invertido: %s segundos.\" % (reloj_fin - reloj_inicio))"
   ]
  },
  {
   "cell_type": "markdown",
   "metadata": {},
   "source": [
    "# E. Pandas [2 puntos]\n",
    "\n",
    "### E.1. El primer paso es la carga del archivo en un dataframe"
   ]
  },
  {
   "cell_type": "code",
   "execution_count": null,
   "metadata": {},
   "outputs": [],
   "source": [
    "# Esta celda debe ser completada por el estudiante\n",
    "\n"
   ]
  },
  {
   "cell_type": "code",
   "execution_count": null,
   "metadata": {},
   "outputs": [],
   "source": [
    "# Test de funcionamiento\n",
    "\n",
    "tabla_completa = load_dataframe(MOVIES_DATA)\n",
    "\n",
    "tabla_completa"
   ]
  },
  {
   "cell_type": "markdown",
   "metadata": {},
   "source": [
    "Salida esperada:\n",
    "\n",
    "<img src='images/df_01.png' width='800px' alt='' />"
   ]
  },
  {
   "cell_type": "markdown",
   "metadata": {},
   "source": [
    "### E.2. Tabla de los campos principales\n",
    "\n",
    "A pertir de la tabla anterior, construimos otra con sólo algumos de los campos:"
   ]
  },
  {
   "cell_type": "code",
   "execution_count": null,
   "metadata": {
    "scrolled": true
   },
   "outputs": [],
   "source": [
    "# Esta celda debe ser completada por el estudiante\n",
    "\n"
   ]
  },
  {
   "cell_type": "code",
   "execution_count": null,
   "metadata": {
    "scrolled": true
   },
   "outputs": [],
   "source": [
    "# test de comprobación\n",
    "\n",
    "tabla_breve = fields_selected_dataframe(tabla_completa)\n",
    "\n",
    "tabla_breve"
   ]
  },
  {
   "cell_type": "markdown",
   "metadata": {},
   "source": [
    "Salida esperada:\n",
    "\n",
    "<img src='images/df_02.png' width='800px' alt='' />"
   ]
  },
  {
   "cell_type": "markdown",
   "metadata": {},
   "source": [
    "### E.3. Columnas de una tabla\n",
    "\n",
    "¿Cuáles son las columnas de nuestrsa `tabla_breve`?"
   ]
  },
  {
   "cell_type": "code",
   "execution_count": null,
   "metadata": {},
   "outputs": [],
   "source": [
    "# Esta celda debe ser completada por el estudiante\n",
    "\n"
   ]
  },
  {
   "cell_type": "markdown",
   "metadata": {},
   "source": [
    "Salida esperada:\n",
    "\n",
    "    Index(['movie_title', 'color', 'director_name', 'language', 'country',\n",
    "           'actor_1_name', 'movie_imdb_link'],\n",
    "          dtype='object')"
   ]
  },
  {
   "cell_type": "markdown",
   "metadata": {},
   "source": [
    "### E.4. Campos missing\n",
    "\n",
    "Algunos campos muestran un valod `NaN`. Deseamos cambiarlo por una cadena de caracteres: `\"Desc\"`."
   ]
  },
  {
   "cell_type": "code",
   "execution_count": null,
   "metadata": {
    "scrolled": true
   },
   "outputs": [],
   "source": [
    "# Esta celda debe ser completada por el estudiante\n",
    "\n"
   ]
  },
  {
   "cell_type": "code",
   "execution_count": null,
   "metadata": {
    "scrolled": true
   },
   "outputs": [],
   "source": [
    "# Test de comprobación\n",
    "\n",
    "tabla_breve"
   ]
  },
  {
   "cell_type": "markdown",
   "metadata": {},
   "source": [
    "Salida esperada:\n",
    "\n",
    "<img src='images/df_03.png' width='800px' alt='' />"
   ]
  },
  {
   "cell_type": "markdown",
   "metadata": {},
   "source": [
    "### E.5. Director $\\rightarrow$ películas y número de películas"
   ]
  },
  {
   "cell_type": "markdown",
   "metadata": {},
   "source": [
    "Función que averigua la lista de títulos de películas de un director dado:"
   ]
  },
  {
   "cell_type": "code",
   "execution_count": null,
   "metadata": {},
   "outputs": [],
   "source": [
    "# Esta celda debe ser completada por el estudiante\n",
    "\n"
   ]
  },
  {
   "cell_type": "code",
   "execution_count": null,
   "metadata": {},
   "outputs": [],
   "source": [
    "# Test de comprobación:\n",
    "\n",
    "tabla_tits = titulos_de_director_df(tabla_breve, \"James Cameron\")\n",
    "tabla_tits"
   ]
  },
  {
   "cell_type": "markdown",
   "metadata": {},
   "source": [
    "Salida esperada:\n",
    "\n",
    "<img src='images/df_04.png' width='800px' alt='' />"
   ]
  },
  {
   "cell_type": "code",
   "execution_count": null,
   "metadata": {},
   "outputs": [],
   "source": [
    "list_tits = tabla_tits[\"movie_title\"].to_list()\n",
    "print(list_tits)"
   ]
  },
  {
   "cell_type": "markdown",
   "metadata": {},
   "source": [
    "Salida esperada:\n",
    "\n",
    "    ['Avatar\\xa0', 'Titanic\\xa0', 'Terminator 2: Judgment Day\\xa0', 'True Lies\\xa0', 'The Abyss\\xa0', 'Aliens\\xa0', 'The Terminator\\xa0']"
   ]
  },
  {
   "cell_type": "markdown",
   "metadata": {},
   "source": [
    "¿Qué directores han dirigido más de *n* películas?"
   ]
  },
  {
   "cell_type": "code",
   "execution_count": null,
   "metadata": {},
   "outputs": [],
   "source": [
    "# Esta celda debe ser completada por el estudiante\n",
    "\n"
   ]
  },
  {
   "cell_type": "code",
   "execution_count": null,
   "metadata": {},
   "outputs": [],
   "source": [
    "# test de comprobación:\n",
    "\n",
    "directors_max_movies_df(tabla_breve)"
   ]
  },
  {
   "cell_type": "markdown",
   "metadata": {},
   "source": [
    "Salida esperada:\n",
    "\n",
    "    (['Steven Spielberg'], np.int64(26))"
   ]
  },
  {
   "cell_type": "markdown",
   "metadata": {
    "collapsed": true,
    "jupyter": {
     "outputs_hidden": true
    }
   },
   "source": [
    "# Parte F. Un cálculo masivo con map-reduce [0,5 puntos]\n",
    "\n",
    "En este apartado se ha de realizar un programa aparte, *basado en la técnica de map-reduce*, que calcule, para cada idioma, en qué países en que se han producido películas y la suma de los presupuestos de dichas películas. Cuando el idioma o el país o el presupuesto no se conozcan, no se considerará esta película.\n",
    "\n",
    "    C:\\...> python language_budget_countries.py -q algunos_campos.txt\n",
    "\n",
    "El programa funcionará necesariamente con la técnica map-reduce, que podemos poner en juego con la librería `mrjob`.\n",
    "\n",
    "El funcionamiento del mismo se puede activar también desde aquí:"
   ]
  },
  {
   "cell_type": "code",
   "execution_count": null,
   "metadata": {
    "scrolled": true
   },
   "outputs": [],
   "source": [
    "# Hagamos una llamada al programa de consola desde aquí:\n",
    "\n",
    "! python language_budget_countries.py -q algunos_campos.txt"
   ]
  },
  {
   "cell_type": "code",
   "execution_count": null,
   "metadata": {},
   "outputs": [],
   "source": [
    "# Para que el resultado se almacene en un archivo:\n",
    "\n",
    "! python language_budget_countries.py -q algunos_campos.txt > language_countries_budgets.txt"
   ]
  },
  {
   "cell_type": "markdown",
   "metadata": {
    "collapsed": true,
    "jupyter": {
     "outputs_hidden": true
    }
   },
   "source": [
    "Para que pueda yo ver tu programa cómodamente desde aquí, también se puede mostrar con un comando de la consola, anteponiendo el símbolo `!`. Observaciones:\n",
    "\n",
    "- La instrucción siguiente está comentada para ocultar una solución mía.\n",
    "  Tú debes suprimir el símbolo `#` del comentario\n",
    "  para mostrar tu solución aquí.\n",
    "- Desde mac o linux, se ha de usar el comando `cat`, en vez de `type`."
   ]
  },
  {
   "cell_type": "code",
   "execution_count": null,
   "metadata": {
    "scrolled": true
   },
   "outputs": [],
   "source": [
    "# ! type language_budget_countries.py"
   ]
  },
  {
   "cell_type": "markdown",
   "metadata": {
    "collapsed": true,
    "jupyter": {
     "outputs_hidden": true
    }
   },
   "source": [
    "# Parte G. Un apartado libre [0.5 puntos]\n",
    "\n",
    "<br>\n",
    "\n",
    "<font color=\"green\">\n",
    "Dejo este apartado a tu voluntad. Inventa tú mismo el enunciado y resuélvelo, mostrando algún aspecto de programación en Python no contemplado o alguna técnica o librería que no has puesto en juego en los apartados anteriores, <b>relacionado con el análisis de datos y con el tema de este proyecto</b>. He aquí dos o tres ejemplos posibles:\n",
    "\n",
    "- Me he quedado un poco insatisfecho con el uso de pandas, que encuentro un poco escaso:\n",
    "  este apartado puede poner en juego algunas algunas operaciones que no hemos visto\n",
    "  en esta librería.\n",
    "  \n",
    "- El acabado de las figuras es algo rudimentario.\n",
    "  en cambio, la librería Plotly me permite permitirte trazar figuras más\n",
    "  profesionales, y una posibilidad sencilla es quizá\n",
    "  importar los datos del archivo creado por el programa de map-reduce\n",
    "  y representarlos gráficamente.\n",
    "  \n",
    "- La disponibilidad de datos de geolocalización puede permitirte alguna representación\n",
    "  de la ubicación de los vehísulos registrados en su posición geográfica.\n",
    "  \n",
    "Estos ejemplos pueden servirte como pista, pero que no te limiten. Hay muchas otras posibilidades: geopandas, web scraping, etc.\n",
    "\n",
    "En la evaluación, si este apartado está bien o muy bien, anota un 0,3 o 0,4. El 0,5 lo reservaremos para las situaciones en que se presente algo brillante, con alguna idea original o alguna técnica novedosa o complejidad especial o algún gráfico vistoso. Especialmente quien opta a un 9,5 o más, debe esmerarse en plantear este apartado a la altura de esa calificación.\n",
    "</font>\n",
    "\n",
    "<br>\n",
    "\n",
    "<font color=\"darkblue\">\n",
    "Tras eliminar el párrafo anterior, en verde, completa tú aquí este enunciado, cuya fuetne aparecerá en azul oscuro.\n",
    "</font>"
   ]
  },
  {
   "cell_type": "code",
   "execution_count": null,
   "metadata": {},
   "outputs": [],
   "source": [
    "# Este apartado debe ser completado por el estudiante\n",
    "\n"
   ]
  },
  {
   "cell_type": "code",
   "execution_count": null,
   "metadata": {},
   "outputs": [],
   "source": [
    "# Pruebas de funcionamiento, también tarea del estudiante:\n",
    "\n"
   ]
  },
  {
   "cell_type": "markdown",
   "metadata": {
    "collapsed": true,
    "jupyter": {
     "outputs_hidden": true
    }
   },
   "source": []
  },
  {
   "cell_type": "markdown",
   "metadata": {},
   "source": [
    "# Datos personales\n",
    "\n",
    "<br>\n",
    "\n",
    "<font color=\"darkblue\">\n",
    "\n",
    "-   **Apellidos:** ......................................\n",
    "-   **Nombre:** ......................................\n",
    "-   **Email:** ......................................\n",
    "-   **Fecha:** ......................................\n",
    "\n",
    "<br>\n",
    "\n",
    "<font color=\"black\">\n",
    "    \n",
    "### Ficha de autoevaluación\n",
    "\n",
    "<br>\n",
    "\n",
    "<font color=\"green\">\n",
    "Aquí vienen comentarios del estudiante. Lo siguiente es un ejemplo posible obviamente ... elimina este párrafo y redacta el tuyo propio, en azul.\n",
    "</font>\n",
    "\n",
    "<br>\n",
    "\n",
    "<font color=\"darkblue\">\n",
    "    \n",
    "|Apartado|Calificación|Comentario|\n",
    "|-|-|-|\n",
    "|a)  |2.0  / 2.5  |Completamente resuelto |\n",
    "|b)  |0.0  / 2.0  |No lo he conseguido |\n",
    "|c)  |0.0  / 1.5  |No he entendido el enunciado |\n",
    "|d)  |0.25 / 1.0  |Sólo he conseguido una parte mínima |\n",
    "|e)  |0.0  / 2.0  |No lo he conseguido |\n",
    "|f)  |0.5  / 0.5  |No lo he conseguido más que mínimamente |\n",
    "|g)  |0.0  / 0.5  |No he logrado el correcto funcionamiento |\n",
    "|**Total** |**2.75** / 10.0|**Suspenso**|\n",
    "</font>\n",
    "\n",
    "<br>\n",
    "\n",
    "<font color=\"black\">\n",
    "   \n",
    "### Ayuda recibida y fuentes utilizadas\n",
    "<li> https://www.codigopiton.com/obtener-columna-de-matriz-en-python/ </li>\n",
    "<li> https://www.geeksforgeeks.org/python-get-unique-values-list/</li>\n",
    "<li>https://docs.python.org/es/3.13/tutorial/datastructures.html</li>\n",
    "<li>https://www.geeksforgeeks.org/python-get-unique-values-list/<li>\n",
    "\n",
    "</font>\n",
    "\n",
    "<br>\n",
    "\n",
    "<font color=\"green\">\n",
    "... comentarios del estudiante ...\n",
    "Pon tú este párrafo con tus propias observaciones. Elimina este párrafo en verde.\n",
    "</font>\n",
    "\n",
    "<br>\n",
    "\n",
    "<font color=\"black\">\n",
    "    \n",
    "### Comentario adicional\n",
    "\n",
    "</font>\n",
    "\n",
    "<br>\n",
    "\n",
    "<font color=\"green\">\n",
    "... Este apartado es optativo. Si lo completas, ponlo en azul; si no, suprímelo con su título.\n",
    "\n",
    "<br>"
   ]
  },
  {
   "cell_type": "code",
   "execution_count": 469,
   "metadata": {},
   "outputs": [
    {
     "name": "stdout",
     "output_type": "stream",
     "text": [
      "El uso de diccionarios por defecto es muy importante y te recomiendo que te familiarices con ellos.\n",
      "La constante 'FEW_FIELDS' no se ha definido.\n",
      "\n",
      "Las funciones siguientes no están definidas: : load_main_data, movies_anno_for_director, directors_max_movies, years_num_movies, store_file, actor_directors, print_collaborations_min, gather_actors, load_dataframe, titulos_de_director_df, directors_max_movies_df.\n",
      "\n",
      "Las variables siguientes no están calculadas: : colores, pelis_victor, main_header, main_dict_data, num_movies, num_movies_sorted, num_collaborations, first_url_movie, first_ten_urls, response, soup, actors, presupuesto_apartado, presupuesto_importe, importe_str, tabla_breve, tabla_tits, list_tits.\n",
      "\n",
      "Las funciones siguientes no tienen el docstring estándar: : load_full_data, main_data_from_item, datatypes_arranged.\n",
      "\n",
      "El docstring de las funciones siguientes es insuficiente: : representar_xxx_yyy.\n",
      "\n",
      "* El programa de map-reduce no está hecho. Te recomiendo fuertemente que inviertas algún tiempo en él, pues los conceptos que trata son importantes en el mundo de la ciencia de datos.\n"
     ]
    }
   ],
   "source": [
    "# Esta celda se ha de respetar: está aquí para comprobar el funcionamiento de algunas funciones por parte de tu profesor\n",
    "\n",
    "import sys\n",
    "modulenames = set(sys.modules) & set(globals())\n",
    "\n",
    "if \"mrjob\" in modulenames:\n",
    "    print(\"* En las librerías importadas, la siguiente no es necesaria\\n\" +\n",
    "          \"      from mrjob.job import MRJob\\n\" +\n",
    "          \"  porque no va a usarse en el cuaderno, sino en un programa externo. Debe omitirse aquí.\\n\")\n",
    "\n",
    "from os.path import exists\n",
    "\n",
    "if not exists(\"./images/\"):\n",
    "    print(\"* He echado de menos la carpeta 'images'.\\n\")\n",
    "\n",
    "# ----------------------------------------------------------------------------\n",
    "\n",
    "if not 'defaultdict' in set(globals()) and not 'collections' in modulenames:\n",
    "    print(\"El uso de diccionarios por defecto es muy importante y te recomiendo que te familiarices con ellos.\")\n",
    "\n",
    "# ----------------------------------------------------------------------------\n",
    "\n",
    "nombres = dir()\n",
    "\n",
    "# Constantes: .....................\n",
    "\n",
    "# print(\"----------------- Constantes\")\n",
    "\n",
    "const_names_asked = [\"MOVIES_DATA\", \"FEW_FIELDS\"]\n",
    "for const_name in const_names_asked:\n",
    "    if const_name not in nombres:\n",
    "        print(\"La constante '\" + const_name + \"' no se ha definido.\\n\")\n",
    "\n",
    "# Funciones: .....................\n",
    "\n",
    "# print(\"----------------- Funciones\")\n",
    "\n",
    "name_funcs_asked = [\"load_full_data\", \"main_data_from_item\", \"datatypes_arranged\", \"load_main_data\",\n",
    "                    \"movies_anno_for_director\", \"directors_max_movies\", \"years_num_movies\", \"store_file\",\n",
    "                    \"actor_directors\", \"print_collaborations_min\", \"representar_xxx_yyy\", \"gather_actors\",\n",
    "                    \"load_dataframe\", \"titulos_de_director_df\", \"directors_max_movies_df\"]\n",
    "\n",
    "name_funcs_defined = [f for f in name_funcs_asked if f in nombres]\n",
    "\n",
    "name_funcs_not_defined = [f for f in name_funcs_asked if f not in nombres]\n",
    "\n",
    "def comentario(frase, nombres) -> str:\n",
    "    if nombres != []:\n",
    "        print(frase + \": \" + \", \".join(nombres) + \".\\n\")\n",
    "\n",
    "comentario(\"Las funciones siguientes no están definidas: \", name_funcs_not_defined)\n",
    "\n",
    "# Variables: .....................\n",
    "\n",
    "# print(\"----------------- Variables\")\n",
    "\n",
    "name_vars_asked = [\"full_header\", \"list_of_enumerated_headers\", \"datos_avatar_2009\", \"datos_star_wars_7\",\n",
    "                   \"colores\", \"pelis_victor\", \"main_header\", \"main_dict_data\", \"num_movies\", \"num_movies_sorted\",\n",
    "                   \"num_collaborations\", \"first_url_movie\", \"first_ten_urls\", \"response\", \"soup\", \"actors\",\n",
    "                   \"presupuesto_apartado\", \"presupuesto_importe\", \"importe_str\",\n",
    "                   \"tabla_breve\", \"tabla_tits\", \"list_tits\"]\n",
    "\n",
    "name_vars_not_defined = [v for v in name_vars_asked if v not in nombres]\n",
    "\n",
    "comentario(\"Las variables siguientes no están calculadas: \", name_vars_not_defined)\n",
    "              \n",
    "# ----------------------------------------------------------------------------\n",
    "\n",
    "# Funciones definidas: .....................\n",
    "\n",
    "# print(\"----------------- Funciones definidas. Semántica\")\n",
    "\n",
    "funcs_defined = [globals()[f_name] for f_name in name_funcs_defined]\n",
    "\n",
    "# print(funcs_defined)\n",
    "\n",
    "# print(\"..............................................................................\")\n",
    "\n",
    "no_docstrings = [f.__name__ for f in funcs_defined if f.__doc__ is None]\n",
    "comentario(\"Las funciones siguientes no tienen el docstring estándar: \" , no_docstrings)\n",
    "\n",
    "# print(\"..............................................................................\")\n",
    "\n",
    "escasos_docstrings = [f.__name__ for f in funcs_defined if f.__doc__ is not None and len(f.__doc__.split(\"\\n\")) < 2]\n",
    "comentario(\"El docstring de las funciones siguientes es insuficiente: \", escasos_docstrings)\n",
    "\n",
    "# print(\"----------------- Funcs. open sin contexto\")\n",
    "\n",
    "import inspect\n",
    "\n",
    "fs_open_close = [f for f in name_funcs_defined\n",
    "                 if \"= open\" in inspect.getsource(globals()[f])\n",
    "                 or \"=open\" in inspect.getsource(globals()[f])]\n",
    "\n",
    "comentario(\"* El manejo de archivos es mejor con un contexto 'with ...' en lugar de con open-close. \" +\n",
    "           \"V. funciones siguientes\", fs_open_close)\n",
    "\n",
    "# print(\"----------------- Funcs. with readlines()\")\n",
    "\n",
    "fs_with_readlines = [f for f in funcs_defined if \"readlines\" in inspect.getsource(f)]\n",
    "\n",
    "comentario(\"* La instrucción 'readlines()' carga un archivo entero en la memoria principal. \" +\n",
    "           \"Esto conlleva un gasto de memoria realmente grande, \" +\n",
    "           \"innecesario cuando sólo interesa una línea, o cuando puede procesarse \" +\n",
    "           \"línea a línea. \" +\n",
    "           \"Las siguientes funciones contienen la instrucción 'readlines'\", fs_with_readlines)\n",
    "\n",
    "# ----------------------------------------------------------------------------\n",
    "\n",
    "if not exists(\"./language_budget_countries.py\"):\n",
    "    print(\"* El programa de map-reduce no está hecho. Te recomiendo \" +\n",
    "          \"fuertemente que inviertas algún tiempo en él, pues los conceptos \" +\n",
    "          \"que trata son importantes en el mundo de la ciencia de datos.\")"
   ]
  },
  {
   "cell_type": "code",
   "execution_count": null,
   "metadata": {},
   "outputs": [],
   "source": []
  }
 ],
 "metadata": {
  "kernelspec": {
   "display_name": "Python 3",
   "language": "python",
   "name": "python3"
  },
  "language_info": {
   "codemirror_mode": {
    "name": "ipython",
    "version": 3
   },
   "file_extension": ".py",
   "mimetype": "text/x-python",
   "name": "python",
   "nbconvert_exporter": "python",
   "pygments_lexer": "ipython3",
   "version": "3.8.10"
  }
 },
 "nbformat": 4,
 "nbformat_minor": 4
}
